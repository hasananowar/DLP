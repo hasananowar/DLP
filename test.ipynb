{
 "cells": [
  {
   "cell_type": "code",
   "execution_count": 1,
   "metadata": {},
   "outputs": [
    {
     "name": "stderr",
     "output_type": "stream",
     "text": [
      "/home/hasan/miniconda3/envs/dlp/lib/python3.9/site-packages/tqdm/auto.py:21: TqdmWarning: IProgress not found. Please update jupyter and ipywidgets. See https://ipywidgets.readthedocs.io/en/stable/user_install.html\n",
      "  from .autonotebook import tqdm as notebook_tqdm\n"
     ]
    }
   ],
   "source": [
    "\n",
    "import pandas as pd\n",
    "import torch"
   ]
  },
  {
   "cell_type": "code",
   "execution_count": 2,
   "metadata": {},
   "outputs": [],
   "source": [
    "df1 = pd.read_csv('DATA/FILT_HB/edges1.csv')\n",
    "df2 = pd.read_csv('DATA/FILT_HB/edges2.csv')"
   ]
  },
  {
   "cell_type": "code",
   "execution_count": 15,
   "metadata": {},
   "outputs": [
    {
     "data": {
      "text/html": [
       "<div>\n",
       "<style scoped>\n",
       "    .dataframe tbody tr th:only-of-type {\n",
       "        vertical-align: middle;\n",
       "    }\n",
       "\n",
       "    .dataframe tbody tr th {\n",
       "        vertical-align: top;\n",
       "    }\n",
       "\n",
       "    .dataframe thead th {\n",
       "        text-align: right;\n",
       "    }\n",
       "</style>\n",
       "<table border=\"1\" class=\"dataframe\">\n",
       "  <thead>\n",
       "    <tr style=\"text-align: right;\">\n",
       "      <th></th>\n",
       "      <th>idx</th>\n",
       "      <th>src</th>\n",
       "      <th>dst</th>\n",
       "      <th>time</th>\n",
       "      <th>label</th>\n",
       "      <th>dst_idx</th>\n",
       "      <th>ext_roll</th>\n",
       "    </tr>\n",
       "  </thead>\n",
       "  <tbody>\n",
       "    <tr>\n",
       "      <th>0</th>\n",
       "      <td>0</td>\n",
       "      <td>348</td>\n",
       "      <td>449</td>\n",
       "      <td>0</td>\n",
       "      <td>0</td>\n",
       "      <td>198</td>\n",
       "      <td>0</td>\n",
       "    </tr>\n",
       "    <tr>\n",
       "      <th>1</th>\n",
       "      <td>1</td>\n",
       "      <td>65</td>\n",
       "      <td>494</td>\n",
       "      <td>0</td>\n",
       "      <td>1</td>\n",
       "      <td>38</td>\n",
       "      <td>0</td>\n",
       "    </tr>\n",
       "    <tr>\n",
       "      <th>2</th>\n",
       "      <td>2</td>\n",
       "      <td>172</td>\n",
       "      <td>572</td>\n",
       "      <td>0</td>\n",
       "      <td>1</td>\n",
       "      <td>83</td>\n",
       "      <td>0</td>\n",
       "    </tr>\n",
       "    <tr>\n",
       "      <th>3</th>\n",
       "      <td>3</td>\n",
       "      <td>122</td>\n",
       "      <td>534</td>\n",
       "      <td>0</td>\n",
       "      <td>1</td>\n",
       "      <td>17</td>\n",
       "      <td>0</td>\n",
       "    </tr>\n",
       "    <tr>\n",
       "      <th>4</th>\n",
       "      <td>4</td>\n",
       "      <td>14</td>\n",
       "      <td>449</td>\n",
       "      <td>0</td>\n",
       "      <td>1</td>\n",
       "      <td>198</td>\n",
       "      <td>0</td>\n",
       "    </tr>\n",
       "    <tr>\n",
       "      <th>...</th>\n",
       "      <td>...</td>\n",
       "      <td>...</td>\n",
       "      <td>...</td>\n",
       "      <td>...</td>\n",
       "      <td>...</td>\n",
       "      <td>...</td>\n",
       "      <td>...</td>\n",
       "    </tr>\n",
       "    <tr>\n",
       "      <th>83375</th>\n",
       "      <td>83375</td>\n",
       "      <td>3</td>\n",
       "      <td>437</td>\n",
       "      <td>999</td>\n",
       "      <td>0</td>\n",
       "      <td>35</td>\n",
       "      <td>2</td>\n",
       "    </tr>\n",
       "    <tr>\n",
       "      <th>83376</th>\n",
       "      <td>83376</td>\n",
       "      <td>237</td>\n",
       "      <td>613</td>\n",
       "      <td>999</td>\n",
       "      <td>1</td>\n",
       "      <td>69</td>\n",
       "      <td>2</td>\n",
       "    </tr>\n",
       "    <tr>\n",
       "      <th>83377</th>\n",
       "      <td>83377</td>\n",
       "      <td>40</td>\n",
       "      <td>474</td>\n",
       "      <td>999</td>\n",
       "      <td>1</td>\n",
       "      <td>25</td>\n",
       "      <td>2</td>\n",
       "    </tr>\n",
       "    <tr>\n",
       "      <th>83378</th>\n",
       "      <td>83378</td>\n",
       "      <td>22</td>\n",
       "      <td>457</td>\n",
       "      <td>999</td>\n",
       "      <td>1</td>\n",
       "      <td>136</td>\n",
       "      <td>2</td>\n",
       "    </tr>\n",
       "    <tr>\n",
       "      <th>83379</th>\n",
       "      <td>83379</td>\n",
       "      <td>32</td>\n",
       "      <td>447</td>\n",
       "      <td>999</td>\n",
       "      <td>0</td>\n",
       "      <td>48</td>\n",
       "      <td>2</td>\n",
       "    </tr>\n",
       "  </tbody>\n",
       "</table>\n",
       "<p>83380 rows × 7 columns</p>\n",
       "</div>"
      ],
      "text/plain": [
       "         idx  src  dst  time  label  dst_idx  ext_roll\n",
       "0          0  348  449     0      0      198         0\n",
       "1          1   65  494     0      1       38         0\n",
       "2          2  172  572     0      1       83         0\n",
       "3          3  122  534     0      1       17         0\n",
       "4          4   14  449     0      1      198         0\n",
       "...      ...  ...  ...   ...    ...      ...       ...\n",
       "83375  83375    3  437   999      0       35         2\n",
       "83376  83376  237  613   999      1       69         2\n",
       "83377  83377   40  474   999      1       25         2\n",
       "83378  83378   22  457   999      1      136         2\n",
       "83379  83379   32  447   999      0       48         2\n",
       "\n",
       "[83380 rows x 7 columns]"
      ]
     },
     "execution_count": 15,
     "metadata": {},
     "output_type": "execute_result"
    }
   ],
   "source": [
    "df1"
   ]
  },
  {
   "cell_type": "code",
   "execution_count": 16,
   "metadata": {},
   "outputs": [
    {
     "data": {
      "text/html": [
       "<div>\n",
       "<style scoped>\n",
       "    .dataframe tbody tr th:only-of-type {\n",
       "        vertical-align: middle;\n",
       "    }\n",
       "\n",
       "    .dataframe tbody tr th {\n",
       "        vertical-align: top;\n",
       "    }\n",
       "\n",
       "    .dataframe thead th {\n",
       "        text-align: right;\n",
       "    }\n",
       "</style>\n",
       "<table border=\"1\" class=\"dataframe\">\n",
       "  <thead>\n",
       "    <tr style=\"text-align: right;\">\n",
       "      <th></th>\n",
       "      <th>idx</th>\n",
       "      <th>src</th>\n",
       "      <th>dst</th>\n",
       "      <th>time</th>\n",
       "      <th>label</th>\n",
       "      <th>dst_idx</th>\n",
       "      <th>ext_roll</th>\n",
       "    </tr>\n",
       "  </thead>\n",
       "  <tbody>\n",
       "    <tr>\n",
       "      <th>0</th>\n",
       "      <td>0</td>\n",
       "      <td>11</td>\n",
       "      <td>679</td>\n",
       "      <td>0</td>\n",
       "      <td>1</td>\n",
       "      <td>182</td>\n",
       "      <td>0</td>\n",
       "    </tr>\n",
       "    <tr>\n",
       "      <th>1</th>\n",
       "      <td>1</td>\n",
       "      <td>13</td>\n",
       "      <td>682</td>\n",
       "      <td>0</td>\n",
       "      <td>1</td>\n",
       "      <td>30</td>\n",
       "      <td>0</td>\n",
       "    </tr>\n",
       "    <tr>\n",
       "      <th>2</th>\n",
       "      <td>2</td>\n",
       "      <td>99</td>\n",
       "      <td>740</td>\n",
       "      <td>0</td>\n",
       "      <td>1</td>\n",
       "      <td>71</td>\n",
       "      <td>0</td>\n",
       "    </tr>\n",
       "    <tr>\n",
       "      <th>3</th>\n",
       "      <td>3</td>\n",
       "      <td>8</td>\n",
       "      <td>676</td>\n",
       "      <td>0</td>\n",
       "      <td>1</td>\n",
       "      <td>125</td>\n",
       "      <td>0</td>\n",
       "    </tr>\n",
       "    <tr>\n",
       "      <th>4</th>\n",
       "      <td>4</td>\n",
       "      <td>36</td>\n",
       "      <td>699</td>\n",
       "      <td>0</td>\n",
       "      <td>1</td>\n",
       "      <td>191</td>\n",
       "      <td>0</td>\n",
       "    </tr>\n",
       "    <tr>\n",
       "      <th>...</th>\n",
       "      <td>...</td>\n",
       "      <td>...</td>\n",
       "      <td>...</td>\n",
       "      <td>...</td>\n",
       "      <td>...</td>\n",
       "      <td>...</td>\n",
       "      <td>...</td>\n",
       "    </tr>\n",
       "    <tr>\n",
       "      <th>83375</th>\n",
       "      <td>83375</td>\n",
       "      <td>396</td>\n",
       "      <td>730</td>\n",
       "      <td>999</td>\n",
       "      <td>0</td>\n",
       "      <td>131</td>\n",
       "      <td>2</td>\n",
       "    </tr>\n",
       "    <tr>\n",
       "      <th>83376</th>\n",
       "      <td>83376</td>\n",
       "      <td>396</td>\n",
       "      <td>672</td>\n",
       "      <td>999</td>\n",
       "      <td>0</td>\n",
       "      <td>8</td>\n",
       "      <td>2</td>\n",
       "    </tr>\n",
       "    <tr>\n",
       "      <th>83377</th>\n",
       "      <td>83377</td>\n",
       "      <td>421</td>\n",
       "      <td>671</td>\n",
       "      <td>999</td>\n",
       "      <td>0</td>\n",
       "      <td>159</td>\n",
       "      <td>2</td>\n",
       "    </tr>\n",
       "    <tr>\n",
       "      <th>83378</th>\n",
       "      <td>83378</td>\n",
       "      <td>433</td>\n",
       "      <td>701</td>\n",
       "      <td>999</td>\n",
       "      <td>0</td>\n",
       "      <td>135</td>\n",
       "      <td>2</td>\n",
       "    </tr>\n",
       "    <tr>\n",
       "      <th>83379</th>\n",
       "      <td>83379</td>\n",
       "      <td>35</td>\n",
       "      <td>698</td>\n",
       "      <td>999</td>\n",
       "      <td>1</td>\n",
       "      <td>46</td>\n",
       "      <td>2</td>\n",
       "    </tr>\n",
       "  </tbody>\n",
       "</table>\n",
       "<p>83380 rows × 7 columns</p>\n",
       "</div>"
      ],
      "text/plain": [
       "         idx  src  dst  time  label  dst_idx  ext_roll\n",
       "0          0   11  679     0      1      182         0\n",
       "1          1   13  682     0      1       30         0\n",
       "2          2   99  740     0      1       71         0\n",
       "3          3    8  676     0      1      125         0\n",
       "4          4   36  699     0      1      191         0\n",
       "...      ...  ...  ...   ...    ...      ...       ...\n",
       "83375  83375  396  730   999      0      131         2\n",
       "83376  83376  396  672   999      0        8         2\n",
       "83377  83377  421  671   999      0      159         2\n",
       "83378  83378  433  701   999      0      135         2\n",
       "83379  83379   35  698   999      1       46         2\n",
       "\n",
       "[83380 rows x 7 columns]"
      ]
     },
     "execution_count": 16,
     "metadata": {},
     "output_type": "execute_result"
    }
   ],
   "source": [
    "df2"
   ]
  },
  {
   "cell_type": "code",
   "execution_count": 9,
   "metadata": {},
   "outputs": [
    {
     "name": "stdout",
     "output_type": "stream",
     "text": [
      "Unique src values in df1: 216\n"
     ]
    }
   ],
   "source": [
    "unique_src_values_df1 = df1['dst_idx'].nunique()\n",
    "print(f\"Unique src values in df1: {unique_src_values_df1}\")"
   ]
  },
  {
   "cell_type": "code",
   "execution_count": 10,
   "metadata": {},
   "outputs": [
    {
     "data": {
      "text/plain": [
       "np.int64(0)"
      ]
     },
     "execution_count": 10,
     "metadata": {},
     "output_type": "execute_result"
    }
   ],
   "source": [
    "df1['dst_idx'].min()"
   ]
  },
  {
   "cell_type": "code",
   "execution_count": 11,
   "metadata": {},
   "outputs": [
    {
     "data": {
      "text/plain": [
       "np.int64(215)"
      ]
     },
     "execution_count": 11,
     "metadata": {},
     "output_type": "execute_result"
    }
   ],
   "source": [
    "df1['dst_idx'].max()"
   ]
  },
  {
   "cell_type": "code",
   "execution_count": 37,
   "metadata": {},
   "outputs": [
    {
     "name": "stdout",
     "output_type": "stream",
     "text": [
      "434 216 452 207\n",
      "num_nodes1: 650\n",
      "num_nodes2: 659\n",
      "650 875\n"
     ]
    }
   ],
   "source": [
    "\n",
    "\n",
    "\n",
    "src_num_nodes1 = df1['src'].nunique()\n",
    "dst_num_nodes1 = df1['dst'].nunique()\n",
    "\n",
    "src_num_nodes2 = df2['src'].nunique()\n",
    "dst_num_nodes2 = df2['dst'].nunique()\n",
    "print(src_num_nodes1, dst_num_nodes1, src_num_nodes2, dst_num_nodes2)\n",
    "\n",
    "num_nodes1 = src_num_nodes1 + dst_num_nodes1\n",
    "num_nodes2 = src_num_nodes2 + dst_num_nodes2\n",
    "print(f\"num_nodes1: {num_nodes1}\")\n",
    "print(f\"num_nodes2: {num_nodes2}\")\n",
    "\n",
    "\n",
    "num_nodes1 = max(int(df1['src'].max()), int(df1['dst'].max())) + 1\n",
    "num_nodes2 = max(int(df2['src'].max()), int(df2['dst'].max())) + 1\n",
    "print (num_nodes1, num_nodes2)"
   ]
  },
  {
   "cell_type": "code",
   "execution_count": 10,
   "metadata": {},
   "outputs": [
    {
     "name": "stdout",
     "output_type": "stream",
     "text": [
      "torch.Size([1, 857])\n"
     ]
    }
   ],
   "source": [
    "# Load a .pt file\n",
    "pt_data = torch.load('DATA/FILT_HB/node_features.pt')\n",
    "print(pt_data.shape)"
   ]
  }
 ],
 "metadata": {
  "kernelspec": {
   "display_name": "dlp",
   "language": "python",
   "name": "python3"
  },
  "language_info": {
   "codemirror_mode": {
    "name": "ipython",
    "version": 3
   },
   "file_extension": ".py",
   "mimetype": "text/x-python",
   "name": "python",
   "nbconvert_exporter": "python",
   "pygments_lexer": "ipython3",
   "version": "3.9.21"
  }
 },
 "nbformat": 4,
 "nbformat_minor": 2
}
