{
 "cells": [
  {
   "cell_type": "code",
   "execution_count": 5,
   "metadata": {},
   "outputs": [],
   "source": [
    "\n",
    "import pandas as pd\n",
    "import torch"
   ]
  },
  {
   "cell_type": "code",
   "execution_count": 29,
   "metadata": {},
   "outputs": [
    {
     "name": "stdout",
     "output_type": "stream",
     "text": [
      "128 110 128 110\n"
     ]
    }
   ],
   "source": [
    "\n",
    "df1 = pd.read_csv(f'DATA/FILT_HB/edges1.csv')\n",
    "df2 = pd.read_csv(f'DATA/FILT_HB/edges2.csv')\n",
    "\n",
    "src_num_nodes1 = int(df1['src'].max()) - int(df1['src'].min()) + 1\n",
    "dst_num_nodes1 = int(df1['dst'].max()) - int(df1['dst'].min()) + 1\n",
    "\n",
    "src_num_nodes2 = int(df2['src'].max()) - int(df2['src'].min()) + 1\n",
    "dst_num_nodes2 = int(df2['dst'].max()) - int(df2['dst'].min()) + 1\n",
    "print(src_num_nodes1, dst_num_nodes1, src_num_nodes2, dst_num_nodes2)  "
   ]
  },
  {
   "cell_type": "code",
   "execution_count": 30,
   "metadata": {},
   "outputs": [
    {
     "name": "stdout",
     "output_type": "stream",
     "text": [
      "num_nodes1: 238\n",
      "num_nodes2: 238\n"
     ]
    }
   ],
   "source": [
    "num_nodes1 = src_num_nodes1 + dst_num_nodes1\n",
    "num_nodes2 = src_num_nodes2 + dst_num_nodes2\n",
    "print(f\"num_nodes1: {num_nodes1}\")\n",
    "print(f\"num_nodes2: {num_nodes2}\")"
   ]
  },
  {
   "cell_type": "code",
   "execution_count": 28,
   "metadata": {},
   "outputs": [
    {
     "name": "stdout",
     "output_type": "stream",
     "text": [
      "238 348\n"
     ]
    }
   ],
   "source": [
    "num_nodes1 = max(int(df1['src'].max()), int(df1['dst'].max())) + 1\n",
    "num_nodes2 = max(int(df2['src'].max()), int(df2['dst'].max())) + 1\n",
    "print (num_nodes1, num_nodes2)"
   ]
  },
  {
   "cell_type": "code",
   "execution_count": null,
   "metadata": {},
   "outputs": [],
   "source": []
  },
  {
   "cell_type": "code",
   "execution_count": 36,
   "metadata": {},
   "outputs": [
    {
     "data": {
      "text/plain": [
       "torch.Size([1, 348])"
      ]
     },
     "execution_count": 36,
     "metadata": {},
     "output_type": "execute_result"
    }
   ],
   "source": [
    "feat = torch.load(\"DATA/FILT_HB/node_features.pt\")\n",
    "feat.shape"
   ]
  },
  {
   "cell_type": "code",
   "execution_count": 32,
   "metadata": {},
   "outputs": [
    {
     "name": "stdout",
     "output_type": "stream",
     "text": [
      "feat1 shape: torch.Size([1, 238])\n",
      "feat2 shape: torch.Size([1, 238])\n"
     ]
    }
   ],
   "source": [
    "\n",
    "# Load the full feature tensor\n",
    "feat = torch.load(\"DATA/FILT_HB/node_features.pt\")  # shape [1, 348]\n",
    "\n",
    "# 1) First split: take the first 238 dimensions\n",
    "feat1 = feat[:, :238]  # shape [1, 238]\n",
    "\n",
    "# 2) Second split: take the first 128 dims and the last 110 dims\n",
    "first_128 = feat[:, :128]       # shape [1, 128]\n",
    "last_110  = feat[:, -110:]      # shape [1, 110]\n",
    "feat2 = torch.cat([first_128, last_110], dim=1)  # shape [1, 238]\n",
    "\n",
    "# Optionally check shapes\n",
    "print(\"feat1 shape:\", feat1.shape)\n",
    "print(\"feat2 shape:\", feat2.shape)\n",
    "\n"
   ]
  },
  {
   "cell_type": "code",
   "execution_count": 33,
   "metadata": {},
   "outputs": [],
   "source": [
    "# Save to separate .pt files\n",
    "torch.save(feat1, \"DATA/FILT_HB/node_features1.pt\")\n",
    "torch.save(feat2, \"DATA/FILT_HB/node_features2.pt\")"
   ]
  },
  {
   "cell_type": "code",
   "execution_count": 35,
   "metadata": {},
   "outputs": [
    {
     "name": "stdout",
     "output_type": "stream",
     "text": [
      "feat1 shape: torch.Size([1, 238])\n"
     ]
    }
   ],
   "source": [
    "feat1 = torch.load(\"DATA/FILT_HB/node_features2.pt\")  # shape [1, 348]\n",
    "print(\"feat1 shape:\", feat1.shape)"
   ]
  }
 ],
 "metadata": {
  "kernelspec": {
   "display_name": "graphenv",
   "language": "python",
   "name": "graphenv"
  },
  "language_info": {
   "codemirror_mode": {
    "name": "ipython",
    "version": 3
   },
   "file_extension": ".py",
   "mimetype": "text/x-python",
   "name": "python",
   "nbconvert_exporter": "python",
   "pygments_lexer": "ipython3",
   "version": "3.11.5"
  }
 },
 "nbformat": 4,
 "nbformat_minor": 2
}
