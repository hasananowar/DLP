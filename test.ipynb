{
 "cells": [
  {
   "cell_type": "code",
   "execution_count": 10,
   "metadata": {},
   "outputs": [],
   "source": [
    "\n",
    "import pandas as pd\n",
    "import torch"
   ]
  },
  {
   "cell_type": "code",
   "execution_count": 11,
   "metadata": {},
   "outputs": [],
   "source": [
    "df1 = pd.read_csv('DATA/FILT_HB/edges1.csv')\n",
    "df2 = pd.read_csv('DATA/FILT_HB/edges2.csv')"
   ]
  },
  {
   "cell_type": "code",
   "execution_count": 12,
   "metadata": {},
   "outputs": [
    {
     "data": {
      "text/html": [
       "<div>\n",
       "<style scoped>\n",
       "    .dataframe tbody tr th:only-of-type {\n",
       "        vertical-align: middle;\n",
       "    }\n",
       "\n",
       "    .dataframe tbody tr th {\n",
       "        vertical-align: top;\n",
       "    }\n",
       "\n",
       "    .dataframe thead th {\n",
       "        text-align: right;\n",
       "    }\n",
       "</style>\n",
       "<table border=\"1\" class=\"dataframe\">\n",
       "  <thead>\n",
       "    <tr style=\"text-align: right;\">\n",
       "      <th></th>\n",
       "      <th>idx</th>\n",
       "      <th>src</th>\n",
       "      <th>dst</th>\n",
       "      <th>time</th>\n",
       "      <th>label</th>\n",
       "      <th>dst_idx</th>\n",
       "      <th>ext_roll</th>\n",
       "    </tr>\n",
       "  </thead>\n",
       "  <tbody>\n",
       "    <tr>\n",
       "      <th>0</th>\n",
       "      <td>0</td>\n",
       "      <td>4</td>\n",
       "      <td>456</td>\n",
       "      <td>0.0</td>\n",
       "      <td>1</td>\n",
       "      <td>125</td>\n",
       "      <td>0</td>\n",
       "    </tr>\n",
       "    <tr>\n",
       "      <th>1</th>\n",
       "      <td>1</td>\n",
       "      <td>420</td>\n",
       "      <td>634</td>\n",
       "      <td>0.0</td>\n",
       "      <td>0</td>\n",
       "      <td>193</td>\n",
       "      <td>0</td>\n",
       "    </tr>\n",
       "    <tr>\n",
       "      <th>2</th>\n",
       "      <td>2</td>\n",
       "      <td>286</td>\n",
       "      <td>562</td>\n",
       "      <td>0.0</td>\n",
       "      <td>0</td>\n",
       "      <td>36</td>\n",
       "      <td>0</td>\n",
       "    </tr>\n",
       "    <tr>\n",
       "      <th>3</th>\n",
       "      <td>3</td>\n",
       "      <td>9</td>\n",
       "      <td>461</td>\n",
       "      <td>0.0</td>\n",
       "      <td>1</td>\n",
       "      <td>140</td>\n",
       "      <td>0</td>\n",
       "    </tr>\n",
       "    <tr>\n",
       "      <th>4</th>\n",
       "      <td>4</td>\n",
       "      <td>61</td>\n",
       "      <td>518</td>\n",
       "      <td>0.0</td>\n",
       "      <td>0</td>\n",
       "      <td>97</td>\n",
       "      <td>0</td>\n",
       "    </tr>\n",
       "    <tr>\n",
       "      <th>...</th>\n",
       "      <td>...</td>\n",
       "      <td>...</td>\n",
       "      <td>...</td>\n",
       "      <td>...</td>\n",
       "      <td>...</td>\n",
       "      <td>...</td>\n",
       "      <td>...</td>\n",
       "    </tr>\n",
       "    <tr>\n",
       "      <th>14639</th>\n",
       "      <td>14639</td>\n",
       "      <td>216</td>\n",
       "      <td>477</td>\n",
       "      <td>178.0</td>\n",
       "      <td>0</td>\n",
       "      <td>69</td>\n",
       "      <td>2</td>\n",
       "    </tr>\n",
       "    <tr>\n",
       "      <th>14640</th>\n",
       "      <td>14640</td>\n",
       "      <td>118</td>\n",
       "      <td>517</td>\n",
       "      <td>178.0</td>\n",
       "      <td>0</td>\n",
       "      <td>6</td>\n",
       "      <td>2</td>\n",
       "    </tr>\n",
       "    <tr>\n",
       "      <th>14641</th>\n",
       "      <td>14641</td>\n",
       "      <td>235</td>\n",
       "      <td>606</td>\n",
       "      <td>178.0</td>\n",
       "      <td>0</td>\n",
       "      <td>29</td>\n",
       "      <td>2</td>\n",
       "    </tr>\n",
       "    <tr>\n",
       "      <th>14642</th>\n",
       "      <td>14642</td>\n",
       "      <td>14</td>\n",
       "      <td>466</td>\n",
       "      <td>178.0</td>\n",
       "      <td>0</td>\n",
       "      <td>4</td>\n",
       "      <td>2</td>\n",
       "    </tr>\n",
       "    <tr>\n",
       "      <th>14643</th>\n",
       "      <td>14643</td>\n",
       "      <td>137</td>\n",
       "      <td>466</td>\n",
       "      <td>178.0</td>\n",
       "      <td>0</td>\n",
       "      <td>4</td>\n",
       "      <td>2</td>\n",
       "    </tr>\n",
       "  </tbody>\n",
       "</table>\n",
       "<p>14644 rows × 7 columns</p>\n",
       "</div>"
      ],
      "text/plain": [
       "         idx  src  dst   time  label  dst_idx  ext_roll\n",
       "0          0    4  456    0.0      1      125         0\n",
       "1          1  420  634    0.0      0      193         0\n",
       "2          2  286  562    0.0      0       36         0\n",
       "3          3    9  461    0.0      1      140         0\n",
       "4          4   61  518    0.0      0       97         0\n",
       "...      ...  ...  ...    ...    ...      ...       ...\n",
       "14639  14639  216  477  178.0      0       69         2\n",
       "14640  14640  118  517  178.0      0        6         2\n",
       "14641  14641  235  606  178.0      0       29         2\n",
       "14642  14642   14  466  178.0      0        4         2\n",
       "14643  14643  137  466  178.0      0        4         2\n",
       "\n",
       "[14644 rows x 7 columns]"
      ]
     },
     "execution_count": 12,
     "metadata": {},
     "output_type": "execute_result"
    }
   ],
   "source": [
    "df1"
   ]
  },
  {
   "cell_type": "code",
   "execution_count": 13,
   "metadata": {},
   "outputs": [
    {
     "data": {
      "text/html": [
       "<div>\n",
       "<style scoped>\n",
       "    .dataframe tbody tr th:only-of-type {\n",
       "        vertical-align: middle;\n",
       "    }\n",
       "\n",
       "    .dataframe tbody tr th {\n",
       "        vertical-align: top;\n",
       "    }\n",
       "\n",
       "    .dataframe thead th {\n",
       "        text-align: right;\n",
       "    }\n",
       "</style>\n",
       "<table border=\"1\" class=\"dataframe\">\n",
       "  <thead>\n",
       "    <tr style=\"text-align: right;\">\n",
       "      <th></th>\n",
       "      <th>idx</th>\n",
       "      <th>src</th>\n",
       "      <th>dst</th>\n",
       "      <th>time</th>\n",
       "      <th>label</th>\n",
       "      <th>dst_idx</th>\n",
       "      <th>ext_roll</th>\n",
       "    </tr>\n",
       "  </thead>\n",
       "  <tbody>\n",
       "    <tr>\n",
       "      <th>0</th>\n",
       "      <td>0</td>\n",
       "      <td>80</td>\n",
       "      <td>765</td>\n",
       "      <td>0.0</td>\n",
       "      <td>0</td>\n",
       "      <td>24</td>\n",
       "      <td>0</td>\n",
       "    </tr>\n",
       "    <tr>\n",
       "      <th>1</th>\n",
       "      <td>1</td>\n",
       "      <td>1</td>\n",
       "      <td>727</td>\n",
       "      <td>0.0</td>\n",
       "      <td>1</td>\n",
       "      <td>158</td>\n",
       "      <td>0</td>\n",
       "    </tr>\n",
       "    <tr>\n",
       "      <th>2</th>\n",
       "      <td>2</td>\n",
       "      <td>52</td>\n",
       "      <td>715</td>\n",
       "      <td>0.0</td>\n",
       "      <td>1</td>\n",
       "      <td>83</td>\n",
       "      <td>0</td>\n",
       "    </tr>\n",
       "    <tr>\n",
       "      <th>3</th>\n",
       "      <td>3</td>\n",
       "      <td>124</td>\n",
       "      <td>793</td>\n",
       "      <td>0.0</td>\n",
       "      <td>0</td>\n",
       "      <td>129</td>\n",
       "      <td>0</td>\n",
       "    </tr>\n",
       "    <tr>\n",
       "      <th>4</th>\n",
       "      <td>4</td>\n",
       "      <td>25</td>\n",
       "      <td>690</td>\n",
       "      <td>0.0</td>\n",
       "      <td>1</td>\n",
       "      <td>136</td>\n",
       "      <td>0</td>\n",
       "    </tr>\n",
       "    <tr>\n",
       "      <th>...</th>\n",
       "      <td>...</td>\n",
       "      <td>...</td>\n",
       "      <td>...</td>\n",
       "      <td>...</td>\n",
       "      <td>...</td>\n",
       "      <td>...</td>\n",
       "      <td>...</td>\n",
       "    </tr>\n",
       "    <tr>\n",
       "      <th>14639</th>\n",
       "      <td>14639</td>\n",
       "      <td>54</td>\n",
       "      <td>718</td>\n",
       "      <td>178.0</td>\n",
       "      <td>1</td>\n",
       "      <td>43</td>\n",
       "      <td>2</td>\n",
       "    </tr>\n",
       "    <tr>\n",
       "      <th>14640</th>\n",
       "      <td>14640</td>\n",
       "      <td>60</td>\n",
       "      <td>670</td>\n",
       "      <td>178.0</td>\n",
       "      <td>0</td>\n",
       "      <td>36</td>\n",
       "      <td>2</td>\n",
       "    </tr>\n",
       "    <tr>\n",
       "      <th>14641</th>\n",
       "      <td>14641</td>\n",
       "      <td>424</td>\n",
       "      <td>668</td>\n",
       "      <td>178.0</td>\n",
       "      <td>0</td>\n",
       "      <td>66</td>\n",
       "      <td>2</td>\n",
       "    </tr>\n",
       "    <tr>\n",
       "      <th>14642</th>\n",
       "      <td>14642</td>\n",
       "      <td>117</td>\n",
       "      <td>669</td>\n",
       "      <td>178.0</td>\n",
       "      <td>1</td>\n",
       "      <td>8</td>\n",
       "      <td>2</td>\n",
       "    </tr>\n",
       "    <tr>\n",
       "      <th>14643</th>\n",
       "      <td>14643</td>\n",
       "      <td>52</td>\n",
       "      <td>715</td>\n",
       "      <td>178.0</td>\n",
       "      <td>1</td>\n",
       "      <td>83</td>\n",
       "      <td>2</td>\n",
       "    </tr>\n",
       "  </tbody>\n",
       "</table>\n",
       "<p>14644 rows × 7 columns</p>\n",
       "</div>"
      ],
      "text/plain": [
       "         idx  src  dst   time  label  dst_idx  ext_roll\n",
       "0          0   80  765    0.0      0       24         0\n",
       "1          1    1  727    0.0      1      158         0\n",
       "2          2   52  715    0.0      1       83         0\n",
       "3          3  124  793    0.0      0      129         0\n",
       "4          4   25  690    0.0      1      136         0\n",
       "...      ...  ...  ...    ...    ...      ...       ...\n",
       "14639  14639   54  718  178.0      1       43         2\n",
       "14640  14640   60  670  178.0      0       36         2\n",
       "14641  14641  424  668  178.0      0       66         2\n",
       "14642  14642  117  669  178.0      1        8         2\n",
       "14643  14643   52  715  178.0      1       83         2\n",
       "\n",
       "[14644 rows x 7 columns]"
      ]
     },
     "execution_count": 13,
     "metadata": {},
     "output_type": "execute_result"
    }
   ],
   "source": [
    "df2"
   ]
  },
  {
   "cell_type": "code",
   "execution_count": 22,
   "metadata": {},
   "outputs": [
    {
     "name": "stdout",
     "output_type": "stream",
     "text": [
      "Unique src values in df1: 198\n"
     ]
    }
   ],
   "source": [
    "unique_src_values_df1 = df2['dst'].nunique()\n",
    "print(f\"Unique src values in df1: {unique_src_values_df1}\")"
   ]
  },
  {
   "cell_type": "code",
   "execution_count": 15,
   "metadata": {},
   "outputs": [
    {
     "data": {
      "text/plain": [
       "0"
      ]
     },
     "execution_count": 15,
     "metadata": {},
     "output_type": "execute_result"
    }
   ],
   "source": [
    "df1['dst_idx'].min()"
   ]
  },
  {
   "cell_type": "code",
   "execution_count": 16,
   "metadata": {},
   "outputs": [
    {
     "data": {
      "text/plain": [
       "215"
      ]
     },
     "execution_count": 16,
     "metadata": {},
     "output_type": "execute_result"
    }
   ],
   "source": [
    "df1['dst_idx'].max()"
   ]
  },
  {
   "cell_type": "code",
   "execution_count": 17,
   "metadata": {},
   "outputs": [
    {
     "name": "stdout",
     "output_type": "stream",
     "text": [
      "433 216 452 198\n",
      "num_nodes1: 649\n",
      "num_nodes2: 650\n",
      "668 866\n"
     ]
    }
   ],
   "source": [
    "\n",
    "\n",
    "\n",
    "src_num_nodes1 = df1['src'].nunique()\n",
    "dst_num_nodes1 = df1['dst'].nunique()\n",
    "\n",
    "src_num_nodes2 = df2['src'].nunique()\n",
    "dst_num_nodes2 = df2['dst'].nunique()\n",
    "print(src_num_nodes1, dst_num_nodes1, src_num_nodes2, dst_num_nodes2)\n",
    "\n",
    "num_nodes1 = src_num_nodes1 + dst_num_nodes1\n",
    "num_nodes2 = src_num_nodes2 + dst_num_nodes2\n",
    "print(f\"num_nodes1: {num_nodes1}\")\n",
    "print(f\"num_nodes2: {num_nodes2}\")\n",
    "\n",
    "\n",
    "num_nodes1 = max(int(df1['src'].max()), int(df1['dst'].max())) + 1\n",
    "num_nodes2 = max(int(df2['src'].max()), int(df2['dst'].max())) + 1\n",
    "print (num_nodes1, num_nodes2)"
   ]
  },
  {
   "cell_type": "code",
   "execution_count": 18,
   "metadata": {},
   "outputs": [
    {
     "name": "stdout",
     "output_type": "stream",
     "text": [
      "torch.Size([1, 866])\n"
     ]
    }
   ],
   "source": [
    "# Load a .pt file\n",
    "pt_data = torch.load('DATA/FILT_HB/node_features.pt')\n",
    "print(pt_data.shape)"
   ]
  }
 ],
 "metadata": {
  "kernelspec": {
   "display_name": "dlp",
   "language": "python",
   "name": "python3"
  },
  "language_info": {
   "codemirror_mode": {
    "name": "ipython",
    "version": 3
   },
   "file_extension": ".py",
   "mimetype": "text/x-python",
   "name": "python",
   "nbconvert_exporter": "python",
   "pygments_lexer": "ipython3",
   "version": "3.9.21"
  }
 },
 "nbformat": 4,
 "nbformat_minor": 2
}
