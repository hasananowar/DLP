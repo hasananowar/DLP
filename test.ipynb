{
 "cells": [
  {
   "cell_type": "code",
   "execution_count": 4,
   "metadata": {},
   "outputs": [
    {
     "name": "stdout",
     "output_type": "stream",
     "text": [
      "Tables: [('studies',), ('version_info',), ('study_directions',), ('study_user_attributes',), ('study_system_attributes',), ('trials',), ('trial_user_attributes',), ('trial_system_attributes',), ('trial_params',), ('trial_values',), ('trial_intermediate_values',), ('trial_heartbeats',), ('alembic_version',)]\n"
     ]
    }
   ],
   "source": [
    "import sqlite3\n",
    "\n",
    "# Path to your database file\n",
    "db_path = \"models/optuna.db\"\n",
    "\n",
    "# Connect to the database\n",
    "conn = sqlite3.connect(db_path)\n",
    "\n",
    "# Create a cursor object to interact with the database\n",
    "cursor = conn.cursor()\n",
    "\n",
    "# List all tables in the database\n",
    "cursor.execute(\"SELECT name FROM sqlite_master WHERE type='table';\")\n",
    "tables = cursor.fetchall()\n",
    "print(\"Tables:\", tables)\n",
    "\n",
    "# Close the connection\n",
    "conn.close()\n",
    "\n"
   ]
  },
  {
   "cell_type": "code",
   "execution_count": 5,
   "metadata": {},
   "outputs": [
    {
     "name": "stdout",
     "output_type": "stream",
     "text": [
      "    trial_value_id  trial_id  objective     value value_type\n",
      "0                1         8          0       NaN    INF_POS\n",
      "1                2         5          0       NaN    INF_POS\n",
      "2                3         7          0       NaN    INF_POS\n",
      "3                4         6          0       NaN    INF_POS\n",
      "4                5         9          0  0.690205     FINITE\n",
      "5                6        10          0       NaN    INF_POS\n",
      "6                7        11          0       NaN    INF_POS\n",
      "7                8        12          0       NaN    INF_POS\n",
      "8                9        18          0  0.145420     FINITE\n",
      "9               10        17          0  0.133289     FINITE\n",
      "10              11        24          0  0.524981     FINITE\n",
      "11              12        26          0       NaN    INF_POS\n",
      "12              13        23          0       NaN    INF_POS\n",
      "13              14        25          0       NaN    INF_POS\n",
      "14              15        27          0  0.040545     FINITE\n",
      "15              16        31          0  0.506859     FINITE\n"
     ]
    }
   ],
   "source": [
    "import pandas as pd\n",
    "\n",
    "# Connect to the database\n",
    "conn = sqlite3.connect(db_path)\n",
    "\n",
    "# Load a specific table into a DataFrame\n",
    "df = pd.read_sql_query(\"SELECT * FROM trial_values;\", conn)\n",
    "\n",
    "# Display the DataFrame\n",
    "print(df)\n",
    "\n",
    "    # Save the updated DataFrame to the specified CSV file\n",
    "df.to_csv('optunadb', index=False)\n",
    "\n",
    "# Close the connection\n",
    "conn.close()\n",
    "\n"
   ]
  }
 ],
 "metadata": {
  "kernelspec": {
   "display_name": "graphenv",
   "language": "python",
   "name": "graphenv"
  },
  "language_info": {
   "codemirror_mode": {
    "name": "ipython",
    "version": 3
   },
   "file_extension": ".py",
   "mimetype": "text/x-python",
   "name": "python",
   "nbconvert_exporter": "python",
   "pygments_lexer": "ipython3",
   "version": "3.11.5"
  }
 },
 "nbformat": 4,
 "nbformat_minor": 2
}
